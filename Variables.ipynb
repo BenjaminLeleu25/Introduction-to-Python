{
 "cells": [
  {
   "cell_type": "markdown",
   "metadata": {},
   "source": [
    "# Introduction to variables on Python\n",
    "#### Create a variable\n",
    "Variables on Python are the first basic 'brick' when you code. It allows you to store any values, type of values. So you do not have to re-type the entire code to extract/calculate/create the value, just need to call the name of your variable when you need it.  \n",
    "A variable is define by the value it has and its type (explain just after).\n",
    "\n",
    "```example:```\n",
    "```python\n",
    "    >> # initialize the value of your variable\n",
    "    >> my_first_var = 1\n",
    "    >> # initialize the value of your second variable using the first one\n",
    "    >> my_second_var = my_first_var + 1\n",
    "    >> # display the result\n",
    "    >> print(my_first_var)\n",
    "    >> print(my_second_var)\n",
    "    out: 1\n",
    "    out: 2\n",
    "```\n",
    "\n",
    "The order, of course, matter. If you initialize the second variable before the first one, the code does not know the value of my_first_var.  \n",
    "  \n",
    "To display a result, you can use the command ```print```. Thanks to this function, you can display the value of any variables, as you can see on the example above or below (sandbox cell)."
   ]
  },
  {
   "cell_type": "code",
   "execution_count": null,
   "metadata": {},
   "outputs": [],
   "source": [
    "\"\"\"\n",
    "Here is a little sandox where you can try to create\n",
    "and manipulate your first variables.\n",
    "To execute the cell, click on the 'play' button on\n",
    "the left of the cell (or ctrl+enter for the shortcut).\n",
    "\"\"\" \n",
    "\n",
    "a = 1\n",
    "b = a\n",
    "a = a + 1\n",
    "\n",
    "print(a)"
   ]
  },
  {
   "cell_type": "markdown",
   "metadata": {},
   "source": [
    "#### Some conventional ways to code"
   ]
  },
  {
   "cell_type": "code",
   "execution_count": null,
   "metadata": {},
   "outputs": [],
   "source": [
    "# add a quatity to the same variable\n",
    "a += 1\n",
    "# equivalent to:\n",
    "a = a + 1\n",
    "\n",
    "# initialize several variables (same or different values)\n",
    "b, c = 1, 2\n",
    "# equivalent to\n",
    "b = 1\n",
    "c = 2 "
   ]
  },
  {
   "cell_type": "markdown",
   "metadata": {},
   "source": [
    "#### The type of a variable\n",
    "\n",
    "The variables can have many type (int, float, str, boolean, array, DataFrame, Dataset, object...). All of these type influence the operation you can do on variables.  \n",
    "For example, you can't add a variable with a type 'int' (for integer) with a type 'str' (for string).\n",
    "\n",
    "```python\n",
    "    >> a = 1\n",
    "    >> b = 'Hello'\n",
    "    >> c = b + a\n",
    "    out: TypeError: can only concatenate str (not \"int\") to str\n",
    "```  \n",
    "\n",
    "> **How can you know the type of a variable?**  \n",
    "\n",
    "You can use the function ```type()```. So if you print the result, it will show you the type of your variable.\n",
    "  \n",
    "```python\n",
    "    >> a = 1\n",
    "    >> print(type(a))\n",
    "    out: <class 'int'>\n",
    "```\n",
    "  \n",
    "> [!IMPORTANT]  \n",
    "> You can do operation on variables with the same type\n",
    "\n",
    "The operation of the example still possible if you convert 'a' before as a string using the function ```str()```. So now, if you do it again, you will obtain c -> 'Hello1'. So c is a string, as a result of a concatenation of 2 strings.\n",
    "\n",
    "Here is some primitive data type conversion functions:  \n",
    "| Conversion | Function  | Example | Output |\n",
    "|---|---|---|---|\n",
    "| Integer to float | float() | float(1)  | 3.0 |\n",
    "| Float to Integer | int() | int(1.0)  | 1 |\n",
    "| String to Integer | int() | int('123') | 123 |\n",
    "| Integer to String | str() | str(123) | '123' |\n",
    "\n",
    "For more explanations and example, here some links:  \n",
    "- [What is a variable?](https://www.w3schools.com/python/python_variables.asp)\n",
    "- [Types of variables](https://www.datacamp.com/tutorial/python-data-type-conversion)"
   ]
  },
  {
   "cell_type": "code",
   "execution_count": null,
   "metadata": {},
   "outputs": [],
   "source": [
    "\"\"\"\n",
    "Sandbox\n",
    "\"\"\"\n",
    "\n",
    "a = 1\n",
    "b = 'Hello'\n",
    "\n",
    "c = b + a\n",
    "print(c)"
   ]
  }
 ],
 "metadata": {
  "kernelspec": {
   "display_name": "Python 3",
   "language": "python",
   "name": "python3"
  },
  "language_info": {
   "codemirror_mode": {
    "name": "ipython",
    "version": 3
   },
   "file_extension": ".py",
   "mimetype": "text/x-python",
   "name": "python",
   "nbconvert_exporter": "python",
   "pygments_lexer": "ipython3",
   "version": "3.10.1"
  }
 },
 "nbformat": 4,
 "nbformat_minor": 2
}
